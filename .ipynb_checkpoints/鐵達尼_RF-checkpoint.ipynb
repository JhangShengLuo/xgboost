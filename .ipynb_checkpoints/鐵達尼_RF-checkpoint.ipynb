{
 "cells": [
  {
   "cell_type": "markdown",
   "metadata": {},
   "source": [
    "https://medium.com/@yehjames/%E8%B3%87%E6%96%99%E5%88%86%E6%9E%90-%E6%A9%9F%E5%99%A8%E5%AD%B8%E7%BF%92-%E7%AC%AC4-1%E8%AC%9B-kaggle%E7%AB%B6%E8%B3%BD-%E9%90%B5%E9%81%94%E5%B0%BC%E8%99%9F%E7%94%9F%E5%AD%98%E9%A0%90%E6%B8%AC-%E5%89%8D16-%E6%8E%92%E5%90%8D-a8842fea7077"
   ]
  },
  {
   "cell_type": "code",
   "execution_count": 2,
   "metadata": {
    "collapsed": true
   },
   "outputs": [],
   "source": [
    "from sklearn import preprocessing\n",
    "from sklearn.ensemble import RandomForestClassifier\n",
    "from sklearn.ensemble import RandomForestRegressor\n",
    "from sklearn.model_selection import GridSearchCV\n",
    "\n",
    "import warnings\n",
    "import pandas as pd\n",
    "import numpy as np\n",
    "import matplotlib.pyplot as plt\n",
    "import seaborn as sns\n",
    "\n",
    "%matplotlib inline\n"
   ]
  },
  {
   "cell_type": "code",
   "execution_count": 3,
   "metadata": {
    "collapsed": true
   },
   "outputs": [],
   "source": [
    "train = pd.read_csv(\"titanic/train.csv\")\n",
    "test = pd.read_csv(\"titanic/test.csv\")\n",
    "submit = pd.read_csv(\"titanic/gender_submission.csv\")"
   ]
  },
  {
   "cell_type": "code",
   "execution_count": 8,
   "metadata": {},
   "outputs": [
    {
     "name": "stdout",
     "output_type": "stream",
     "text": [
      "<class 'pandas.core.frame.DataFrame'>\n",
      "RangeIndex: 891 entries, 0 to 890\n",
      "Data columns (total 12 columns):\n",
      "PassengerId    891 non-null int64\n",
      "Survived       891 non-null int64\n",
      "Pclass         891 non-null int64\n",
      "Name           891 non-null object\n",
      "Sex            891 non-null object\n",
      "Age            714 non-null float64\n",
      "SibSp          891 non-null int64\n",
      "Parch          891 non-null int64\n",
      "Ticket         891 non-null object\n",
      "Fare           891 non-null float64\n",
      "Cabin          204 non-null object\n",
      "Embarked       889 non-null object\n",
      "dtypes: float64(2), int64(5), object(5)\n",
      "memory usage: 83.6+ KB\n"
     ]
    }
   ],
   "source": [
    "train.info()"
   ]
  },
  {
   "cell_type": "code",
   "execution_count": 9,
   "metadata": {},
   "outputs": [
    {
     "name": "stdout",
     "output_type": "stream",
     "text": [
      "<class 'pandas.core.frame.DataFrame'>\n",
      "RangeIndex: 418 entries, 0 to 417\n",
      "Data columns (total 11 columns):\n",
      "PassengerId    418 non-null int64\n",
      "Pclass         418 non-null int64\n",
      "Name           418 non-null object\n",
      "Sex            418 non-null object\n",
      "Age            332 non-null float64\n",
      "SibSp          418 non-null int64\n",
      "Parch          418 non-null int64\n",
      "Ticket         418 non-null object\n",
      "Fare           417 non-null float64\n",
      "Cabin          91 non-null object\n",
      "Embarked       418 non-null object\n",
      "dtypes: float64(2), int64(4), object(5)\n",
      "memory usage: 36.0+ KB\n"
     ]
    }
   ],
   "source": [
    "test.info()"
   ]
  },
  {
   "cell_type": "markdown",
   "metadata": {},
   "source": [
    "### Combin train_test"
   ]
  },
  {
   "cell_type": "code",
   "execution_count": 10,
   "metadata": {
    "collapsed": true
   },
   "outputs": [],
   "source": [
    "data = train.append(test,ignore_index=True)"
   ]
  },
  {
   "cell_type": "code",
   "execution_count": 12,
   "metadata": {},
   "outputs": [
    {
     "data": {
      "text/plain": [
       "<matplotlib.axes._subplots.AxesSubplot at 0x11141a748>"
      ]
     },
     "execution_count": 12,
     "metadata": {},
     "output_type": "execute_result"
    },
    {
     "data": {
      "image/png": "[encoded data removed]",
      "text/plain": [
       "<matplotlib.figure.Figure at 0x10589a160>"
      ]
     },
     "metadata": {},
     "output_type": "display_data"
    }
   ],
   "source": [
    "sns.countplot(data['Survived'])"
   ]
  },
  {
   "cell_type": "markdown",
   "metadata": {},
   "source": [
    "###  Pclass survived"
   ]
  },
  {
   "cell_type": "code",
   "execution_count": 13,
   "metadata": {},
   "outputs": [
    {
     "data": {
      "text/plain": [
       "<matplotlib.axes._subplots.AxesSubplot at 0x1058c49e8>"
      ]
     },
     "execution_count": 13,
     "metadata": {},
     "output_type": "execute_result"
    },
    {
     "data": {
      "image/png": "[encoded data removed]",
      "text/plain": [
       "<matplotlib.figure.Figure at 0x10a407a58>"
      ]
     },
     "metadata": {},
     "output_type": "display_data"
    }
   ],
   "source": [
    "sns.countplot(data['Pclass'],hue=data['Survived'])"
   ]
  },
  {
   "cell_type": "markdown",
   "metadata": {},
   "source": [
    "### Sex survived"
   ]
  },
  {
   "cell_type": "code",
   "execution_count": 15,
   "metadata": {},
   "outputs": [
    {
     "data": {
      "text/plain": [
       "<matplotlib.axes._subplots.AxesSubplot at 0x1144276d8>"
      ]
     },
     "execution_count": 15,
     "metadata": {},
     "output_type": "execute_result"
    },
    {
     "data": {
      "image/png": "[encoded data removed]",
      "text/plain": [
       "<matplotlib.figure.Figure at 0x11142deb8>"
      ]
     },
     "metadata": {},
     "output_type": "display_data"
    }
   ],
   "source": [
    "sns.countplot(data['Sex'],hue=data['Survived'])"
   ]
  },
  {
   "cell_type": "markdown",
   "metadata": {},
   "source": [
    "### Embarked survived"
   ]
  },
  {
   "cell_type": "code",
   "execution_count": 16,
   "metadata": {},
   "outputs": [
    {
     "data": {
      "text/plain": [
       "<matplotlib.axes._subplots.AxesSubplot at 0x1143ff4e0>"
      ]
     },
     "execution_count": 16,
     "metadata": {},
     "output_type": "execute_result"
    },
    {
     "data": {
      "image/png": "[encoded data removed]",
      "text/plain": [
       "<matplotlib.figure.Figure at 0x111b036d8>"
      ]
     },
     "metadata": {},
     "output_type": "display_data"
    }
   ],
   "source": [
    "sns.countplot(data['Embarked'],hue=data['Survived'])"
   ]
  },
  {
   "cell_type": "markdown",
   "metadata": {},
   "source": [
    "### age and survived"
   ]
  },
  {
   "cell_type": "code",
   "execution_count": 23,
   "metadata": {},
   "outputs": [
    {
     "data": {
      "text/plain": [
       "<seaborn.axisgrid.FacetGrid at 0x115a1a080>"
      ]
     },
     "execution_count": 23,
     "metadata": {},
     "output_type": "execute_result"
    },
    {
     "data": {
      "image/png": "[encoded data removed]",
      "text/plain": [
       "<matplotlib.figure.Figure at 0x1156c96a0>"
      ]
     },
     "metadata": {},
     "output_type": "display_data"
    }
   ],
   "source": [
    "g = sns.FacetGrid(data,col=\"Survived\")\n",
    "g.map(sns.distplot,'Age',kde=False)\n",
    "# g.map(sns.distplot,'Age',kde=True) # 用到"
   ]
  },
  {
   "cell_type": "code",
   "execution_count": 24,
   "metadata": {
    "collapsed": true
   },
   "outputs": [],
   "source": [
    "### Fare and survived"
   ]
  },
  {
   "cell_type": "code",
   "execution_count": 25,
   "metadata": {},
   "outputs": [
    {
     "data": {
      "text/plain": [
       "<seaborn.axisgrid.FacetGrid at 0x115adb390>"
      ]
     },
     "execution_count": 25,
     "metadata": {},
     "output_type": "execute_result"
    },
    {
     "data": {
      "image/png": "[encoded data removed]",
      "text/plain": [
       "<matplotlib.figure.Figure at 0x115b42cc0>"
      ]
     },
     "metadata": {},
     "output_type": "display_data"
    }
   ],
   "source": [
    "g = sns.FacetGrid(data,col=\"Survived\")\n",
    "g.map(sns.distplot,'Fare',kde=False)"
   ]
  },
  {
   "cell_type": "code",
   "execution_count": 27,
   "metadata": {},
   "outputs": [
    {
     "data": {
      "text/plain": [
       "<seaborn.axisgrid.FacetGrid at 0x115f5a9b0>"
      ]
     },
     "execution_count": 27,
     "metadata": {},
     "output_type": "execute_result"
    },
    {
     "data": {
      "image/png": "[encoded data removed]",
      "text/plain": [
       "<matplotlib.figure.Figure at 0x115f5ab70>"
      ]
     },
     "metadata": {},
     "output_type": "display_data"
    }
   ],
   "source": [
    "g = sns.FacetGrid(data,col=\"Survived\")\n",
    "g.map(sns.distplot,'Parch',kde=False)"
   ]
  },
  {
   "cell_type": "code",
   "execution_count": 29,
   "metadata": {},
   "outputs": [
    {
     "data": {
      "text/plain": [
       "<seaborn.axisgrid.FacetGrid at 0x1168b7b00>"
      ]
     },
     "execution_count": 29,
     "metadata": {},
     "output_type": "execute_result"
    },
    {
     "data": {
      "image/png": "[encoded data removed]",
      "text/plain": [
       "<matplotlib.figure.Figure at 0x1168b7a20>"
      ]
     },
     "metadata": {},
     "output_type": "display_data"
    }
   ],
   "source": [
    "g = sns.FacetGrid(data,col=\"Survived\")\n",
    "g.map(sns.distplot,'SibSp',kde=False)"
   ]
  },
  {
   "cell_type": "code",
   "execution_count": 30,
   "metadata": {
    "collapsed": true
   },
   "outputs": [],
   "source": [
    "data['Family_Size'] = data['Parch'] + data['SibSp']"
   ]
  },
  {
   "cell_type": "code",
   "execution_count": 31,
   "metadata": {},
   "outputs": [
    {
     "data": {
      "text/plain": [
       "<seaborn.axisgrid.FacetGrid at 0x11697acc0>"
      ]
     },
     "execution_count": 31,
     "metadata": {},
     "output_type": "execute_result"
    },
    {
     "data": {
      "image/png": "[encoded data removed]",
      "text/plain": [
       "<matplotlib.figure.Figure at 0x1168b76a0>"
      ]
     },
     "metadata": {},
     "output_type": "display_data"
    }
   ],
   "source": [
    "g = sns.FacetGrid(data,col=\"Survived\")\n",
    "g.map(sns.distplot,'Family_Size',kde=False)"
   ]
  },
  {
   "cell_type": "code",
   "execution_count": 42,
   "metadata": {
    "collapsed": true
   },
   "outputs": [],
   "source": [
    "data['Title1'] = data['Name'].str.split(', ').str[1].str.split('.').str[0]"
   ]
  },
  {
   "cell_type": "code",
   "execution_count": 48,
   "metadata": {},
   "outputs": [
    {
     "data": {
      "text/html": [
       "<style  type=\"text/css\" >\n",
       "    #T_d97a8bb0_04c7_11e8_95cc_9801a7e0d4bbrow0_col0 {\n",
       "            background-color:  #ffff66;\n",
       "        }    #T_d97a8bb0_04c7_11e8_95cc_9801a7e0d4bbrow0_col1 {\n",
       "            background-color:  #ffff66;\n",
       "        }    #T_d97a8bb0_04c7_11e8_95cc_9801a7e0d4bbrow0_col2 {\n",
       "            background-color:  #ffff66;\n",
       "        }    #T_d97a8bb0_04c7_11e8_95cc_9801a7e0d4bbrow0_col3 {\n",
       "            background-color:  #008066;\n",
       "        }    #T_d97a8bb0_04c7_11e8_95cc_9801a7e0d4bbrow0_col4 {\n",
       "            background-color:  #ffff66;\n",
       "        }    #T_d97a8bb0_04c7_11e8_95cc_9801a7e0d4bbrow0_col5 {\n",
       "            background-color:  #ffff66;\n",
       "        }    #T_d97a8bb0_04c7_11e8_95cc_9801a7e0d4bbrow0_col6 {\n",
       "            background-color:  #008066;\n",
       "        }    #T_d97a8bb0_04c7_11e8_95cc_9801a7e0d4bbrow0_col7 {\n",
       "            background-color:  #ffff66;\n",
       "        }    #T_d97a8bb0_04c7_11e8_95cc_9801a7e0d4bbrow0_col8 {\n",
       "            background-color:  #ffff66;\n",
       "        }    #T_d97a8bb0_04c7_11e8_95cc_9801a7e0d4bbrow0_col9 {\n",
       "            background-color:  #008066;\n",
       "        }    #T_d97a8bb0_04c7_11e8_95cc_9801a7e0d4bbrow0_col10 {\n",
       "            background-color:  #008066;\n",
       "        }    #T_d97a8bb0_04c7_11e8_95cc_9801a7e0d4bbrow0_col11 {\n",
       "            background-color:  #008066;\n",
       "        }    #T_d97a8bb0_04c7_11e8_95cc_9801a7e0d4bbrow0_col12 {\n",
       "            background-color:  #ffff66;\n",
       "        }    #T_d97a8bb0_04c7_11e8_95cc_9801a7e0d4bbrow0_col13 {\n",
       "            background-color:  #008066;\n",
       "        }    #T_d97a8bb0_04c7_11e8_95cc_9801a7e0d4bbrow0_col14 {\n",
       "            background-color:  #008066;\n",
       "        }    #T_d97a8bb0_04c7_11e8_95cc_9801a7e0d4bbrow0_col15 {\n",
       "            background-color:  #ffff66;\n",
       "        }    #T_d97a8bb0_04c7_11e8_95cc_9801a7e0d4bbrow0_col16 {\n",
       "            background-color:  #ffff66;\n",
       "        }    #T_d97a8bb0_04c7_11e8_95cc_9801a7e0d4bbrow0_col17 {\n",
       "            background-color:  #008066;\n",
       "        }    #T_d97a8bb0_04c7_11e8_95cc_9801a7e0d4bbrow1_col0 {\n",
       "            background-color:  #008066;\n",
       "        }    #T_d97a8bb0_04c7_11e8_95cc_9801a7e0d4bbrow1_col1 {\n",
       "            background-color:  #008066;\n",
       "        }    #T_d97a8bb0_04c7_11e8_95cc_9801a7e0d4bbrow1_col2 {\n",
       "            background-color:  #008066;\n",
       "        }    #T_d97a8bb0_04c7_11e8_95cc_9801a7e0d4bbrow1_col3 {\n",
       "            background-color:  #ffff66;\n",
       "        }    #T_d97a8bb0_04c7_11e8_95cc_9801a7e0d4bbrow1_col4 {\n",
       "            background-color:  #008066;\n",
       "        }    #T_d97a8bb0_04c7_11e8_95cc_9801a7e0d4bbrow1_col5 {\n",
       "            background-color:  #008066;\n",
       "        }    #T_d97a8bb0_04c7_11e8_95cc_9801a7e0d4bbrow1_col6 {\n",
       "            background-color:  #ffff66;\n",
       "        }    #T_d97a8bb0_04c7_11e8_95cc_9801a7e0d4bbrow1_col7 {\n",
       "            background-color:  #008066;\n",
       "        }    #T_d97a8bb0_04c7_11e8_95cc_9801a7e0d4bbrow1_col8 {\n",
       "            background-color:  #008066;\n",
       "        }    #T_d97a8bb0_04c7_11e8_95cc_9801a7e0d4bbrow1_col9 {\n",
       "            background-color:  #ffff66;\n",
       "        }    #T_d97a8bb0_04c7_11e8_95cc_9801a7e0d4bbrow1_col10 {\n",
       "            background-color:  #ffff66;\n",
       "        }    #T_d97a8bb0_04c7_11e8_95cc_9801a7e0d4bbrow1_col11 {\n",
       "            background-color:  #ffff66;\n",
       "        }    #T_d97a8bb0_04c7_11e8_95cc_9801a7e0d4bbrow1_col12 {\n",
       "            background-color:  #008066;\n",
       "        }    #T_d97a8bb0_04c7_11e8_95cc_9801a7e0d4bbrow1_col13 {\n",
       "            background-color:  #ffff66;\n",
       "        }    #T_d97a8bb0_04c7_11e8_95cc_9801a7e0d4bbrow1_col14 {\n",
       "            background-color:  #ffff66;\n",
       "        }    #T_d97a8bb0_04c7_11e8_95cc_9801a7e0d4bbrow1_col15 {\n",
       "            background-color:  #008066;\n",
       "        }    #T_d97a8bb0_04c7_11e8_95cc_9801a7e0d4bbrow1_col16 {\n",
       "            background-color:  #008066;\n",
       "        }    #T_d97a8bb0_04c7_11e8_95cc_9801a7e0d4bbrow1_col17 {\n",
       "            background-color:  #ffff66;\n",
       "        }</style>  \n",
       "<table id=\"T_d97a8bb0_04c7_11e8_95cc_9801a7e0d4bb\" > \n",
       "<thead>    <tr> \n",
       "        <th class=\"index_name level0\" >Title1</th> \n",
       "        <th class=\"col_heading level0 col0\" >Capt</th> \n",
       "        <th class=\"col_heading level0 col1\" >Col</th> \n",
       "        <th class=\"col_heading level0 col2\" >Don</th> \n",
       "        <th class=\"col_heading level0 col3\" >Dona</th> \n",
       "        <th class=\"col_heading level0 col4\" >Dr</th> \n",
       "        <th class=\"col_heading level0 col5\" >Jonkheer</th> \n",
       "        <th class=\"col_heading level0 col6\" >Lady</th> \n",
       "        <th class=\"col_heading level0 col7\" >Major</th> \n",
       "        <th class=\"col_heading level0 col8\" >Master</th> \n",
       "        <th class=\"col_heading level0 col9\" >Miss</th> \n",
       "        <th class=\"col_heading level0 col10\" >Mlle</th> \n",
       "        <th class=\"col_heading level0 col11\" >Mme</th> \n",
       "        <th class=\"col_heading level0 col12\" >Mr</th> \n",
       "        <th class=\"col_heading level0 col13\" >Mrs</th> \n",
       "        <th class=\"col_heading level0 col14\" >Ms</th> \n",
       "        <th class=\"col_heading level0 col15\" >Rev</th> \n",
       "        <th class=\"col_heading level0 col16\" >Sir</th> \n",
       "        <th class=\"col_heading level0 col17\" >the Countess</th> \n",
       "    </tr>    <tr> \n",
       "        <th class=\"index_name level0\" >Sex</th> \n",
       "        <th class=\"blank\" ></th> \n",
       "        <th class=\"blank\" ></th> \n",
       "        <th class=\"blank\" ></th> \n",
       "        <th class=\"blank\" ></th> \n",
       "        <th class=\"blank\" ></th> \n",
       "        <th class=\"blank\" ></th> \n",
       "        <th class=\"blank\" ></th> \n",
       "        <th class=\"blank\" ></th> \n",
       "        <th class=\"blank\" ></th> \n",
       "        <th class=\"blank\" ></th> \n",
       "        <th class=\"blank\" ></th> \n",
       "        <th class=\"blank\" ></th> \n",
       "        <th class=\"blank\" ></th> \n",
       "        <th class=\"blank\" ></th> \n",
       "        <th class=\"blank\" ></th> \n",
       "        <th class=\"blank\" ></th> \n",
       "        <th class=\"blank\" ></th> \n",
       "        <th class=\"blank\" ></th> \n",
       "    </tr></thead> \n",
       "<tbody>    <tr> \n",
       "        <th id=\"T_d97a8bb0_04c7_11e8_95cc_9801a7e0d4bb\" class=\"row_heading level0 row0\" >female</th> \n",
       "        <td id=\"T_d97a8bb0_04c7_11e8_95cc_9801a7e0d4bbrow0_col0\" class=\"data row0 col0\" >0</td> \n",
       "        <td id=\"T_d97a8bb0_04c7_11e8_95cc_9801a7e0d4bbrow0_col1\" class=\"data row0 col1\" >0</td> \n",
       "        <td id=\"T_d97a8bb0_04c7_11e8_95cc_9801a7e0d4bbrow0_col2\" class=\"data row0 col2\" >0</td> \n",
       "        <td id=\"T_d97a8bb0_04c7_11e8_95cc_9801a7e0d4bbrow0_col3\" class=\"data row0 col3\" >1</td> \n",
       "        <td id=\"T_d97a8bb0_04c7_11e8_95cc_9801a7e0d4bbrow0_col4\" class=\"data row0 col4\" >1</td> \n",
       "        <td id=\"T_d97a8bb0_04c7_11e8_95cc_9801a7e0d4bbrow0_col5\" class=\"data row0 col5\" >0</td> \n",
       "        <td id=\"T_d97a8bb0_04c7_11e8_95cc_9801a7e0d4bbrow0_col6\" class=\"data row0 col6\" >1</td> \n",
       "        <td id=\"T_d97a8bb0_04c7_11e8_95cc_9801a7e0d4bbrow0_col7\" class=\"data row0 col7\" >0</td> \n",
       "        <td id=\"T_d97a8bb0_04c7_11e8_95cc_9801a7e0d4bbrow0_col8\" class=\"data row0 col8\" >0</td> \n",
       "        <td id=\"T_d97a8bb0_04c7_11e8_95cc_9801a7e0d4bbrow0_col9\" class=\"data row0 col9\" >260</td> \n",
       "        <td id=\"T_d97a8bb0_04c7_11e8_95cc_9801a7e0d4bbrow0_col10\" class=\"data row0 col10\" >2</td> \n",
       "        <td id=\"T_d97a8bb0_04c7_11e8_95cc_9801a7e0d4bbrow0_col11\" class=\"data row0 col11\" >1</td> \n",
       "        <td id=\"T_d97a8bb0_04c7_11e8_95cc_9801a7e0d4bbrow0_col12\" class=\"data row0 col12\" >0</td> \n",
       "        <td id=\"T_d97a8bb0_04c7_11e8_95cc_9801a7e0d4bbrow0_col13\" class=\"data row0 col13\" >197</td> \n",
       "        <td id=\"T_d97a8bb0_04c7_11e8_95cc_9801a7e0d4bbrow0_col14\" class=\"data row0 col14\" >2</td> \n",
       "        <td id=\"T_d97a8bb0_04c7_11e8_95cc_9801a7e0d4bbrow0_col15\" class=\"data row0 col15\" >0</td> \n",
       "        <td id=\"T_d97a8bb0_04c7_11e8_95cc_9801a7e0d4bbrow0_col16\" class=\"data row0 col16\" >0</td> \n",
       "        <td id=\"T_d97a8bb0_04c7_11e8_95cc_9801a7e0d4bbrow0_col17\" class=\"data row0 col17\" >1</td> \n",
       "    </tr>    <tr> \n",
       "        <th id=\"T_d97a8bb0_04c7_11e8_95cc_9801a7e0d4bb\" class=\"row_heading level0 row1\" >male</th> \n",
       "        <td id=\"T_d97a8bb0_04c7_11e8_95cc_9801a7e0d4bbrow1_col0\" class=\"data row1 col0\" >1</td> \n",
       "        <td id=\"T_d97a8bb0_04c7_11e8_95cc_9801a7e0d4bbrow1_col1\" class=\"data row1 col1\" >4</td> \n",
       "        <td id=\"T_d97a8bb0_04c7_11e8_95cc_9801a7e0d4bbrow1_col2\" class=\"data row1 col2\" >1</td> \n",
       "        <td id=\"T_d97a8bb0_04c7_11e8_95cc_9801a7e0d4bbrow1_col3\" class=\"data row1 col3\" >0</td> \n",
       "        <td id=\"T_d97a8bb0_04c7_11e8_95cc_9801a7e0d4bbrow1_col4\" class=\"data row1 col4\" >7</td> \n",
       "        <td id=\"T_d97a8bb0_04c7_11e8_95cc_9801a7e0d4bbrow1_col5\" class=\"data row1 col5\" >1</td> \n",
       "        <td id=\"T_d97a8bb0_04c7_11e8_95cc_9801a7e0d4bbrow1_col6\" class=\"data row1 col6\" >0</td> \n",
       "        <td id=\"T_d97a8bb0_04c7_11e8_95cc_9801a7e0d4bbrow1_col7\" class=\"data row1 col7\" >2</td> \n",
       "        <td id=\"T_d97a8bb0_04c7_11e8_95cc_9801a7e0d4bbrow1_col8\" class=\"data row1 col8\" >61</td> \n",
       "        <td id=\"T_d97a8bb0_04c7_11e8_95cc_9801a7e0d4bbrow1_col9\" class=\"data row1 col9\" >0</td> \n",
       "        <td id=\"T_d97a8bb0_04c7_11e8_95cc_9801a7e0d4bbrow1_col10\" class=\"data row1 col10\" >0</td> \n",
       "        <td id=\"T_d97a8bb0_04c7_11e8_95cc_9801a7e0d4bbrow1_col11\" class=\"data row1 col11\" >0</td> \n",
       "        <td id=\"T_d97a8bb0_04c7_11e8_95cc_9801a7e0d4bbrow1_col12\" class=\"data row1 col12\" >757</td> \n",
       "        <td id=\"T_d97a8bb0_04c7_11e8_95cc_9801a7e0d4bbrow1_col13\" class=\"data row1 col13\" >0</td> \n",
       "        <td id=\"T_d97a8bb0_04c7_11e8_95cc_9801a7e0d4bbrow1_col14\" class=\"data row1 col14\" >0</td> \n",
       "        <td id=\"T_d97a8bb0_04c7_11e8_95cc_9801a7e0d4bbrow1_col15\" class=\"data row1 col15\" >8</td> \n",
       "        <td id=\"T_d97a8bb0_04c7_11e8_95cc_9801a7e0d4bbrow1_col16\" class=\"data row1 col16\" >1</td> \n",
       "        <td id=\"T_d97a8bb0_04c7_11e8_95cc_9801a7e0d4bbrow1_col17\" class=\"data row1 col17\" >0</td> \n",
       "    </tr></tbody> \n",
       "</table> "
      ],
      "text/plain": [
       "<pandas.io.formats.style.Styler at 0x11693bac8>"
      ]
     },
     "execution_count": 48,
     "metadata": {},
     "output_type": "execute_result"
    }
   ],
   "source": [
    "pd.crosstab(data['Title1'],data['Sex']).T.style.background_gradient(cmap='summer_r')"
   ]
  },
  {
   "cell_type": "code",
   "execution_count": 56,
   "metadata": {},
   "outputs": [
    {
     "data": {
      "text/html": [
       "<style  type=\"text/css\" >\n",
       "    #T_2c0d42dc_04c8_11e8_84a7_9801a7e0d4bbrow0_col0 {\n",
       "            background-color:  #008066;\n",
       "        }    #T_2c0d42dc_04c8_11e8_84a7_9801a7e0d4bbrow0_col1 {\n",
       "            background-color:  #ffff66;\n",
       "        }    #T_2c0d42dc_04c8_11e8_84a7_9801a7e0d4bbrow0_col2 {\n",
       "            background-color:  #008066;\n",
       "        }    #T_2c0d42dc_04c8_11e8_84a7_9801a7e0d4bbrow0_col3 {\n",
       "            background-color:  #008066;\n",
       "        }    #T_2c0d42dc_04c8_11e8_84a7_9801a7e0d4bbrow0_col4 {\n",
       "            background-color:  #008066;\n",
       "        }    #T_2c0d42dc_04c8_11e8_84a7_9801a7e0d4bbrow0_col5 {\n",
       "            background-color:  #ffff66;\n",
       "        }    #T_2c0d42dc_04c8_11e8_84a7_9801a7e0d4bbrow0_col6 {\n",
       "            background-color:  #ffff66;\n",
       "        }    #T_2c0d42dc_04c8_11e8_84a7_9801a7e0d4bbrow0_col7 {\n",
       "            background-color:  #ffff66;\n",
       "        }    #T_2c0d42dc_04c8_11e8_84a7_9801a7e0d4bbrow0_col8 {\n",
       "            background-color:  #ffff66;\n",
       "        }    #T_2c0d42dc_04c8_11e8_84a7_9801a7e0d4bbrow0_col9 {\n",
       "            background-color:  #ffff66;\n",
       "        }    #T_2c0d42dc_04c8_11e8_84a7_9801a7e0d4bbrow0_col10 {\n",
       "            background-color:  #ffff66;\n",
       "        }    #T_2c0d42dc_04c8_11e8_84a7_9801a7e0d4bbrow0_col11 {\n",
       "            background-color:  #008066;\n",
       "        }    #T_2c0d42dc_04c8_11e8_84a7_9801a7e0d4bbrow0_col12 {\n",
       "            background-color:  #ffff66;\n",
       "        }    #T_2c0d42dc_04c8_11e8_84a7_9801a7e0d4bbrow0_col13 {\n",
       "            background-color:  #ffff66;\n",
       "        }    #T_2c0d42dc_04c8_11e8_84a7_9801a7e0d4bbrow0_col14 {\n",
       "            background-color:  #008066;\n",
       "        }    #T_2c0d42dc_04c8_11e8_84a7_9801a7e0d4bbrow0_col15 {\n",
       "            background-color:  #ffff66;\n",
       "        }    #T_2c0d42dc_04c8_11e8_84a7_9801a7e0d4bbrow0_col16 {\n",
       "            background-color:  #ffff66;\n",
       "        }    #T_2c0d42dc_04c8_11e8_84a7_9801a7e0d4bbrow1_col0 {\n",
       "            background-color:  #ffff66;\n",
       "        }    #T_2c0d42dc_04c8_11e8_84a7_9801a7e0d4bbrow1_col1 {\n",
       "            background-color:  #ffff66;\n",
       "        }    #T_2c0d42dc_04c8_11e8_84a7_9801a7e0d4bbrow1_col2 {\n",
       "            background-color:  #ffff66;\n",
       "        }    #T_2c0d42dc_04c8_11e8_84a7_9801a7e0d4bbrow1_col3 {\n",
       "            background-color:  #ffff66;\n",
       "        }    #T_2c0d42dc_04c8_11e8_84a7_9801a7e0d4bbrow1_col4 {\n",
       "            background-color:  #ffff66;\n",
       "        }    #T_2c0d42dc_04c8_11e8_84a7_9801a7e0d4bbrow1_col5 {\n",
       "            background-color:  #008066;\n",
       "        }    #T_2c0d42dc_04c8_11e8_84a7_9801a7e0d4bbrow1_col6 {\n",
       "            background-color:  #ffff66;\n",
       "        }    #T_2c0d42dc_04c8_11e8_84a7_9801a7e0d4bbrow1_col7 {\n",
       "            background-color:  #008066;\n",
       "        }    #T_2c0d42dc_04c8_11e8_84a7_9801a7e0d4bbrow1_col8 {\n",
       "            background-color:  #008066;\n",
       "        }    #T_2c0d42dc_04c8_11e8_84a7_9801a7e0d4bbrow1_col9 {\n",
       "            background-color:  #008066;\n",
       "        }    #T_2c0d42dc_04c8_11e8_84a7_9801a7e0d4bbrow1_col10 {\n",
       "            background-color:  #008066;\n",
       "        }    #T_2c0d42dc_04c8_11e8_84a7_9801a7e0d4bbrow1_col11 {\n",
       "            background-color:  #ffff66;\n",
       "        }    #T_2c0d42dc_04c8_11e8_84a7_9801a7e0d4bbrow1_col12 {\n",
       "            background-color:  #008066;\n",
       "        }    #T_2c0d42dc_04c8_11e8_84a7_9801a7e0d4bbrow1_col13 {\n",
       "            background-color:  #008066;\n",
       "        }    #T_2c0d42dc_04c8_11e8_84a7_9801a7e0d4bbrow1_col14 {\n",
       "            background-color:  #ffff66;\n",
       "        }    #T_2c0d42dc_04c8_11e8_84a7_9801a7e0d4bbrow1_col15 {\n",
       "            background-color:  #008066;\n",
       "        }    #T_2c0d42dc_04c8_11e8_84a7_9801a7e0d4bbrow1_col16 {\n",
       "            background-color:  #008066;\n",
       "        }</style>  \n",
       "<table id=\"T_2c0d42dc_04c8_11e8_84a7_9801a7e0d4bb\" > \n",
       "<thead>    <tr> \n",
       "        <th class=\"index_name level0\" >Title1</th> \n",
       "        <th class=\"col_heading level0 col0\" >Capt</th> \n",
       "        <th class=\"col_heading level0 col1\" >Col</th> \n",
       "        <th class=\"col_heading level0 col2\" >Don</th> \n",
       "        <th class=\"col_heading level0 col3\" >Dr</th> \n",
       "        <th class=\"col_heading level0 col4\" >Jonkheer</th> \n",
       "        <th class=\"col_heading level0 col5\" >Lady</th> \n",
       "        <th class=\"col_heading level0 col6\" >Major</th> \n",
       "        <th class=\"col_heading level0 col7\" >Master</th> \n",
       "        <th class=\"col_heading level0 col8\" >Miss</th> \n",
       "        <th class=\"col_heading level0 col9\" >Mlle</th> \n",
       "        <th class=\"col_heading level0 col10\" >Mme</th> \n",
       "        <th class=\"col_heading level0 col11\" >Mr</th> \n",
       "        <th class=\"col_heading level0 col12\" >Mrs</th> \n",
       "        <th class=\"col_heading level0 col13\" >Ms</th> \n",
       "        <th class=\"col_heading level0 col14\" >Rev</th> \n",
       "        <th class=\"col_heading level0 col15\" >Sir</th> \n",
       "        <th class=\"col_heading level0 col16\" >the Countess</th> \n",
       "    </tr>    <tr> \n",
       "        <th class=\"index_name level0\" >Survived</th> \n",
       "        <th class=\"blank\" ></th> \n",
       "        <th class=\"blank\" ></th> \n",
       "        <th class=\"blank\" ></th> \n",
       "        <th class=\"blank\" ></th> \n",
       "        <th class=\"blank\" ></th> \n",
       "        <th class=\"blank\" ></th> \n",
       "        <th class=\"blank\" ></th> \n",
       "        <th class=\"blank\" ></th> \n",
       "        <th class=\"blank\" ></th> \n",
       "        <th class=\"blank\" ></th> \n",
       "        <th class=\"blank\" ></th> \n",
       "        <th class=\"blank\" ></th> \n",
       "        <th class=\"blank\" ></th> \n",
       "        <th class=\"blank\" ></th> \n",
       "        <th class=\"blank\" ></th> \n",
       "        <th class=\"blank\" ></th> \n",
       "        <th class=\"blank\" ></th> \n",
       "    </tr></thead> \n",
       "<tbody>    <tr> \n",
       "        <th id=\"T_2c0d42dc_04c8_11e8_84a7_9801a7e0d4bb\" class=\"row_heading level0 row0\" >0.0</th> \n",
       "        <td id=\"T_2c0d42dc_04c8_11e8_84a7_9801a7e0d4bbrow0_col0\" class=\"data row0 col0\" >1</td> \n",
       "        <td id=\"T_2c0d42dc_04c8_11e8_84a7_9801a7e0d4bbrow0_col1\" class=\"data row0 col1\" >1</td> \n",
       "        <td id=\"T_2c0d42dc_04c8_11e8_84a7_9801a7e0d4bbrow0_col2\" class=\"data row0 col2\" >1</td> \n",
       "        <td id=\"T_2c0d42dc_04c8_11e8_84a7_9801a7e0d4bbrow0_col3\" class=\"data row0 col3\" >4</td> \n",
       "        <td id=\"T_2c0d42dc_04c8_11e8_84a7_9801a7e0d4bbrow0_col4\" class=\"data row0 col4\" >1</td> \n",
       "        <td id=\"T_2c0d42dc_04c8_11e8_84a7_9801a7e0d4bbrow0_col5\" class=\"data row0 col5\" >0</td> \n",
       "        <td id=\"T_2c0d42dc_04c8_11e8_84a7_9801a7e0d4bbrow0_col6\" class=\"data row0 col6\" >1</td> \n",
       "        <td id=\"T_2c0d42dc_04c8_11e8_84a7_9801a7e0d4bbrow0_col7\" class=\"data row0 col7\" >17</td> \n",
       "        <td id=\"T_2c0d42dc_04c8_11e8_84a7_9801a7e0d4bbrow0_col8\" class=\"data row0 col8\" >55</td> \n",
       "        <td id=\"T_2c0d42dc_04c8_11e8_84a7_9801a7e0d4bbrow0_col9\" class=\"data row0 col9\" >0</td> \n",
       "        <td id=\"T_2c0d42dc_04c8_11e8_84a7_9801a7e0d4bbrow0_col10\" class=\"data row0 col10\" >0</td> \n",
       "        <td id=\"T_2c0d42dc_04c8_11e8_84a7_9801a7e0d4bbrow0_col11\" class=\"data row0 col11\" >436</td> \n",
       "        <td id=\"T_2c0d42dc_04c8_11e8_84a7_9801a7e0d4bbrow0_col12\" class=\"data row0 col12\" >26</td> \n",
       "        <td id=\"T_2c0d42dc_04c8_11e8_84a7_9801a7e0d4bbrow0_col13\" class=\"data row0 col13\" >0</td> \n",
       "        <td id=\"T_2c0d42dc_04c8_11e8_84a7_9801a7e0d4bbrow0_col14\" class=\"data row0 col14\" >6</td> \n",
       "        <td id=\"T_2c0d42dc_04c8_11e8_84a7_9801a7e0d4bbrow0_col15\" class=\"data row0 col15\" >0</td> \n",
       "        <td id=\"T_2c0d42dc_04c8_11e8_84a7_9801a7e0d4bbrow0_col16\" class=\"data row0 col16\" >0</td> \n",
       "    </tr>    <tr> \n",
       "        <th id=\"T_2c0d42dc_04c8_11e8_84a7_9801a7e0d4bb\" class=\"row_heading level0 row1\" >1.0</th> \n",
       "        <td id=\"T_2c0d42dc_04c8_11e8_84a7_9801a7e0d4bbrow1_col0\" class=\"data row1 col0\" >0</td> \n",
       "        <td id=\"T_2c0d42dc_04c8_11e8_84a7_9801a7e0d4bbrow1_col1\" class=\"data row1 col1\" >1</td> \n",
       "        <td id=\"T_2c0d42dc_04c8_11e8_84a7_9801a7e0d4bbrow1_col2\" class=\"data row1 col2\" >0</td> \n",
       "        <td id=\"T_2c0d42dc_04c8_11e8_84a7_9801a7e0d4bbrow1_col3\" class=\"data row1 col3\" >3</td> \n",
       "        <td id=\"T_2c0d42dc_04c8_11e8_84a7_9801a7e0d4bbrow1_col4\" class=\"data row1 col4\" >0</td> \n",
       "        <td id=\"T_2c0d42dc_04c8_11e8_84a7_9801a7e0d4bbrow1_col5\" class=\"data row1 col5\" >1</td> \n",
       "        <td id=\"T_2c0d42dc_04c8_11e8_84a7_9801a7e0d4bbrow1_col6\" class=\"data row1 col6\" >1</td> \n",
       "        <td id=\"T_2c0d42dc_04c8_11e8_84a7_9801a7e0d4bbrow1_col7\" class=\"data row1 col7\" >23</td> \n",
       "        <td id=\"T_2c0d42dc_04c8_11e8_84a7_9801a7e0d4bbrow1_col8\" class=\"data row1 col8\" >127</td> \n",
       "        <td id=\"T_2c0d42dc_04c8_11e8_84a7_9801a7e0d4bbrow1_col9\" class=\"data row1 col9\" >2</td> \n",
       "        <td id=\"T_2c0d42dc_04c8_11e8_84a7_9801a7e0d4bbrow1_col10\" class=\"data row1 col10\" >1</td> \n",
       "        <td id=\"T_2c0d42dc_04c8_11e8_84a7_9801a7e0d4bbrow1_col11\" class=\"data row1 col11\" >81</td> \n",
       "        <td id=\"T_2c0d42dc_04c8_11e8_84a7_9801a7e0d4bbrow1_col12\" class=\"data row1 col12\" >99</td> \n",
       "        <td id=\"T_2c0d42dc_04c8_11e8_84a7_9801a7e0d4bbrow1_col13\" class=\"data row1 col13\" >1</td> \n",
       "        <td id=\"T_2c0d42dc_04c8_11e8_84a7_9801a7e0d4bbrow1_col14\" class=\"data row1 col14\" >0</td> \n",
       "        <td id=\"T_2c0d42dc_04c8_11e8_84a7_9801a7e0d4bbrow1_col15\" class=\"data row1 col15\" >1</td> \n",
       "        <td id=\"T_2c0d42dc_04c8_11e8_84a7_9801a7e0d4bbrow1_col16\" class=\"data row1 col16\" >1</td> \n",
       "    </tr></tbody> \n",
       "</table> "
      ],
      "text/plain": [
       "<pandas.io.formats.style.Styler at 0x1143a47f0>"
      ]
     },
     "execution_count": 56,
     "metadata": {},
     "output_type": "execute_result"
    }
   ],
   "source": [
    "pd.crosstab(data['Title1'],data['Survived']).T.style.background_gradient(cmap='summer_r')"
   ]
  },
  {
   "cell_type": "code",
   "execution_count": 60,
   "metadata": {},
   "outputs": [
    {
     "data": {
      "text/plain": [
       "Title1\n",
       "Capt            70.0\n",
       "Col             54.5\n",
       "Don             40.0\n",
       "Dona            39.0\n",
       "Dr              49.0\n",
       "Jonkheer        38.0\n",
       "Lady            48.0\n",
       "Major           48.5\n",
       "Master           4.0\n",
       "Miss            22.0\n",
       "Mlle            24.0\n",
       "Mme             24.0\n",
       "Mr              29.0\n",
       "Mrs             35.5\n",
       "Ms              28.0\n",
       "Rev             41.5\n",
       "Sir             49.0\n",
       "the Countess    33.0\n",
       "Name: Age, dtype: float64"
      ]
     },
     "execution_count": 60,
     "metadata": {},
     "output_type": "execute_result"
    }
   ],
   "source": [
    "data.groupby(['Title1'])['Age'].median()"
   ]
  },
  {
   "cell_type": "code",
   "execution_count": 70,
   "metadata": {},
   "outputs": [
    {
     "data": {
      "text/plain": [
       "Title1\n",
       "Capt            1.000\n",
       "Col             1.000\n",
       "Don             1.000\n",
       "Dona            0.000\n",
       "Dr              0.875\n",
       "Jonkheer        1.000\n",
       "Lady            0.000\n",
       "Major           1.000\n",
       "Master          1.000\n",
       "Miss            0.000\n",
       "Mlle            0.000\n",
       "Mme             0.000\n",
       "Mr              1.000\n",
       "Mrs             0.000\n",
       "Ms              0.000\n",
       "Rev             1.000\n",
       "Sir             1.000\n",
       "the Countess    0.000\n",
       "Name: Sex_num, dtype: float64"
      ]
     },
     "execution_count": 70,
     "metadata": {},
     "output_type": "execute_result"
    }
   ],
   "source": [
    "data['Sex_num'] = data['Sex'].replace(['male','female'],[1,0])\n",
    "data.groupby(['Title1'])['Sex_num'].mean()"
   ]
  },
  {
   "cell_type": "code",
   "execution_count": 77,
   "metadata": {
    "collapsed": true
   },
   "outputs": [],
   "source": [
    "Mr = ['Capt','Col','Don','Jonkheer','Major','Rev','Sir']\n",
    "toMr = ['Mr','Mr','Mr','Mr','Mr','Mr','Mr']\n",
    "\n",
    "Miss = ['Mlle','Ms']\n",
    "toMiss = ['Miss','Miss']\n",
    "\n",
    "Mrs = ['Lady','the Countess','Mme','Dona']\n",
    "toMrs = ['Mrs','Mrs','Mrs','Mrs']\n",
    "data['Title2'] = data['Title1'].replace(Mr+Miss+Mrs,toMr+toMiss+toMrs)\n",
    "\n"
   ]
  },
  {
   "cell_type": "code",
   "execution_count": 78,
   "metadata": {
    "collapsed": true
   },
   "outputs": [],
   "source": [
    "data.loc[(data['Sex_num']==1)&(data['Title1']=='Dr'),'Title2']=\"Mr\"\n",
    "data.loc[(data['Sex_num']==0)&(data['Title1']=='Dr'),'Title2']=\"Mrs\""
   ]
  },
  {
   "cell_type": "code",
   "execution_count": 79,
   "metadata": {},
   "outputs": [
    {
     "data": {
      "text/plain": [
       "array(['Mr', 'Mrs', 'Miss', 'Master'], dtype=object)"
      ]
     },
     "execution_count": 79,
     "metadata": {},
     "output_type": "execute_result"
    }
   ],
   "source": [
    "data['Title2'].unique()"
   ]
  },
  {
   "cell_type": "code",
   "execution_count": 81,
   "metadata": {},
   "outputs": [
    {
     "data": {
      "text/html": [
       "<style  type=\"text/css\" >\n",
       "    #T_e187cc82_04cc_11e8_9c8b_9801a7e0d4bbrow0_col0 {\n",
       "            background-color:  #ffff66;\n",
       "        }    #T_e187cc82_04cc_11e8_9c8b_9801a7e0d4bbrow0_col1 {\n",
       "            background-color:  #008066;\n",
       "        }    #T_e187cc82_04cc_11e8_9c8b_9801a7e0d4bbrow0_col2 {\n",
       "            background-color:  #ffff66;\n",
       "        }    #T_e187cc82_04cc_11e8_9c8b_9801a7e0d4bbrow0_col3 {\n",
       "            background-color:  #008066;\n",
       "        }    #T_e187cc82_04cc_11e8_9c8b_9801a7e0d4bbrow1_col0 {\n",
       "            background-color:  #008066;\n",
       "        }    #T_e187cc82_04cc_11e8_9c8b_9801a7e0d4bbrow1_col1 {\n",
       "            background-color:  #ffff66;\n",
       "        }    #T_e187cc82_04cc_11e8_9c8b_9801a7e0d4bbrow1_col2 {\n",
       "            background-color:  #008066;\n",
       "        }    #T_e187cc82_04cc_11e8_9c8b_9801a7e0d4bbrow1_col3 {\n",
       "            background-color:  #ffff66;\n",
       "        }</style>  \n",
       "<table id=\"T_e187cc82_04cc_11e8_9c8b_9801a7e0d4bb\" > \n",
       "<thead>    <tr> \n",
       "        <th class=\"index_name level0\" >Title2</th> \n",
       "        <th class=\"col_heading level0 col0\" >Master</th> \n",
       "        <th class=\"col_heading level0 col1\" >Miss</th> \n",
       "        <th class=\"col_heading level0 col2\" >Mr</th> \n",
       "        <th class=\"col_heading level0 col3\" >Mrs</th> \n",
       "    </tr>    <tr> \n",
       "        <th class=\"index_name level0\" >Sex</th> \n",
       "        <th class=\"blank\" ></th> \n",
       "        <th class=\"blank\" ></th> \n",
       "        <th class=\"blank\" ></th> \n",
       "        <th class=\"blank\" ></th> \n",
       "    </tr></thead> \n",
       "<tbody>    <tr> \n",
       "        <th id=\"T_e187cc82_04cc_11e8_9c8b_9801a7e0d4bb\" class=\"row_heading level0 row0\" >female</th> \n",
       "        <td id=\"T_e187cc82_04cc_11e8_9c8b_9801a7e0d4bbrow0_col0\" class=\"data row0 col0\" >0</td> \n",
       "        <td id=\"T_e187cc82_04cc_11e8_9c8b_9801a7e0d4bbrow0_col1\" class=\"data row0 col1\" >264</td> \n",
       "        <td id=\"T_e187cc82_04cc_11e8_9c8b_9801a7e0d4bbrow0_col2\" class=\"data row0 col2\" >0</td> \n",
       "        <td id=\"T_e187cc82_04cc_11e8_9c8b_9801a7e0d4bbrow0_col3\" class=\"data row0 col3\" >202</td> \n",
       "    </tr>    <tr> \n",
       "        <th id=\"T_e187cc82_04cc_11e8_9c8b_9801a7e0d4bb\" class=\"row_heading level0 row1\" >male</th> \n",
       "        <td id=\"T_e187cc82_04cc_11e8_9c8b_9801a7e0d4bbrow1_col0\" class=\"data row1 col0\" >61</td> \n",
       "        <td id=\"T_e187cc82_04cc_11e8_9c8b_9801a7e0d4bbrow1_col1\" class=\"data row1 col1\" >0</td> \n",
       "        <td id=\"T_e187cc82_04cc_11e8_9c8b_9801a7e0d4bbrow1_col2\" class=\"data row1 col2\" >782</td> \n",
       "        <td id=\"T_e187cc82_04cc_11e8_9c8b_9801a7e0d4bbrow1_col3\" class=\"data row1 col3\" >0</td> \n",
       "    </tr></tbody> \n",
       "</table> "
      ],
      "text/plain": [
       "<pandas.io.formats.style.Styler at 0x117958f60>"
      ]
     },
     "execution_count": 81,
     "metadata": {},
     "output_type": "execute_result"
    }
   ],
   "source": [
    "pd.crosstab(data['Title2'],data['Sex']).T.style.background_gradient(cmap='summer_r')"
   ]
  },
  {
   "cell_type": "code",
   "execution_count": 82,
   "metadata": {},
   "outputs": [
    {
     "data": {
      "text/html": [
       "<style  type=\"text/css\" >\n",
       "    #T_ebc746d2_04cc_11e8_b7da_9801a7e0d4bbrow0_col0 {\n",
       "            background-color:  #ffff66;\n",
       "        }    #T_ebc746d2_04cc_11e8_b7da_9801a7e0d4bbrow0_col1 {\n",
       "            background-color:  #ffff66;\n",
       "        }    #T_ebc746d2_04cc_11e8_b7da_9801a7e0d4bbrow0_col2 {\n",
       "            background-color:  #008066;\n",
       "        }    #T_ebc746d2_04cc_11e8_b7da_9801a7e0d4bbrow0_col3 {\n",
       "            background-color:  #ffff66;\n",
       "        }    #T_ebc746d2_04cc_11e8_b7da_9801a7e0d4bbrow1_col0 {\n",
       "            background-color:  #008066;\n",
       "        }    #T_ebc746d2_04cc_11e8_b7da_9801a7e0d4bbrow1_col1 {\n",
       "            background-color:  #008066;\n",
       "        }    #T_ebc746d2_04cc_11e8_b7da_9801a7e0d4bbrow1_col2 {\n",
       "            background-color:  #ffff66;\n",
       "        }    #T_ebc746d2_04cc_11e8_b7da_9801a7e0d4bbrow1_col3 {\n",
       "            background-color:  #008066;\n",
       "        }</style>  \n",
       "<table id=\"T_ebc746d2_04cc_11e8_b7da_9801a7e0d4bb\" > \n",
       "<thead>    <tr> \n",
       "        <th class=\"index_name level0\" >Title2</th> \n",
       "        <th class=\"col_heading level0 col0\" >Master</th> \n",
       "        <th class=\"col_heading level0 col1\" >Miss</th> \n",
       "        <th class=\"col_heading level0 col2\" >Mr</th> \n",
       "        <th class=\"col_heading level0 col3\" >Mrs</th> \n",
       "    </tr>    <tr> \n",
       "        <th class=\"index_name level0\" >Survived</th> \n",
       "        <th class=\"blank\" ></th> \n",
       "        <th class=\"blank\" ></th> \n",
       "        <th class=\"blank\" ></th> \n",
       "        <th class=\"blank\" ></th> \n",
       "    </tr></thead> \n",
       "<tbody>    <tr> \n",
       "        <th id=\"T_ebc746d2_04cc_11e8_b7da_9801a7e0d4bb\" class=\"row_heading level0 row0\" >0.0</th> \n",
       "        <td id=\"T_ebc746d2_04cc_11e8_b7da_9801a7e0d4bbrow0_col0\" class=\"data row0 col0\" >17</td> \n",
       "        <td id=\"T_ebc746d2_04cc_11e8_b7da_9801a7e0d4bbrow0_col1\" class=\"data row0 col1\" >55</td> \n",
       "        <td id=\"T_ebc746d2_04cc_11e8_b7da_9801a7e0d4bbrow0_col2\" class=\"data row0 col2\" >451</td> \n",
       "        <td id=\"T_ebc746d2_04cc_11e8_b7da_9801a7e0d4bbrow0_col3\" class=\"data row0 col3\" >26</td> \n",
       "    </tr>    <tr> \n",
       "        <th id=\"T_ebc746d2_04cc_11e8_b7da_9801a7e0d4bb\" class=\"row_heading level0 row1\" >1.0</th> \n",
       "        <td id=\"T_ebc746d2_04cc_11e8_b7da_9801a7e0d4bbrow1_col0\" class=\"data row1 col0\" >23</td> \n",
       "        <td id=\"T_ebc746d2_04cc_11e8_b7da_9801a7e0d4bbrow1_col1\" class=\"data row1 col1\" >130</td> \n",
       "        <td id=\"T_ebc746d2_04cc_11e8_b7da_9801a7e0d4bbrow1_col2\" class=\"data row1 col2\" >86</td> \n",
       "        <td id=\"T_ebc746d2_04cc_11e8_b7da_9801a7e0d4bbrow1_col3\" class=\"data row1 col3\" >103</td> \n",
       "    </tr></tbody> \n",
       "</table> "
      ],
      "text/plain": [
       "<pandas.io.formats.style.Styler at 0x1172606d8>"
      ]
     },
     "execution_count": 82,
     "metadata": {},
     "output_type": "execute_result"
    }
   ],
   "source": [
    "pd.crosstab(data['Title2'],data['Survived']).T.style.background_gradient(cmap='summer_r')"
   ]
  },
  {
   "cell_type": "code",
   "execution_count": 229,
   "metadata": {
    "collapsed": true
   },
   "outputs": [],
   "source": [
    "data['Ticket_info'] = data['Ticket'].apply(lambda x: x.replace('.','').replace('/','').strip('0123456789').strip(' ')).replace('','X')"
   ]
  },
  {
   "cell_type": "code",
   "execution_count": 254,
   "metadata": {
    "collapsed": true
   },
   "outputs": [],
   "source": [
    "data['Ticket_info'] = data['Ticket_info'].str.replace(' ','')"
   ]
  },
  {
   "cell_type": "code",
   "execution_count": 255,
   "metadata": {},
   "outputs": [
    {
     "data": {
      "text/plain": [
       "array(['A5', 'PC', 'STONO2', 'X', 'PP', 'CA', 'SCParis', 'SCA4', 'A4',\n",
       "       'SP', 'SOC', 'WC', 'SOTONOQ', 'WEP', 'C', 'SCPARIS', 'SOP', 'Fa',\n",
       "       'LINE', 'FCC', 'SWPP', 'SCOW', 'PPP', 'SC', 'SCAH', 'AS',\n",
       "       'SCAHBasle', 'SOPP', 'FC', 'SOTONO2', 'CASOTON', 'SCA3', 'STONOQ',\n",
       "       'AQ4', 'A2', 'LP', 'AQ3'], dtype=object)"
      ]
     },
     "execution_count": 255,
     "metadata": {},
     "output_type": "execute_result"
    }
   ],
   "source": [
    "data['Ticket_info'].unique()"
   ]
  },
  {
   "cell_type": "code",
   "execution_count": 256,
   "metadata": {
    "collapsed": true
   },
   "outputs": [],
   "source": [
    "data['Embarked'] = data['Embarked'].fillna('S')"
   ]
  },
  {
   "cell_type": "code",
   "execution_count": 257,
   "metadata": {
    "collapsed": true
   },
   "outputs": [],
   "source": [
    "data['Fare'] = data['Fare'].fillna(data['Fare'].mean())"
   ]
  },
  {
   "cell_type": "code",
   "execution_count": 259,
   "metadata": {
    "collapsed": true
   },
   "outputs": [],
   "source": [
    "data['Cabin'] = data['Cabin'].apply(lambda x: str(x)[0] if not pd.isnull(x) else 'NoCabin')"
   ]
  },
  {
   "cell_type": "code",
   "execution_count": 261,
   "metadata": {},
   "outputs": [
    {
     "data": {
      "text/plain": [
       "<matplotlib.axes._subplots.AxesSubplot at 0x117514048>"
      ]
     },
     "execution_count": 261,
     "metadata": {},
     "output_type": "execute_result"
    },
    {
     "data": {
      "image/png": "[encoded data removed]",
      "text/plain": [
       "<matplotlib.figure.Figure at 0x1178c8ef0>"
      ]
     },
     "metadata": {},
     "output_type": "display_data"
    }
   ],
   "source": [
    "sns.countplot(data['Cabin'],hue=data['Survived'])"
   ]
  },
  {
   "cell_type": "code",
   "execution_count": 262,
   "metadata": {
    "collapsed": true
   },
   "outputs": [],
   "source": [
    "data['Sex'] = data['Sex'].astype('category').cat.codes\n",
    "data['Embarked'] = data['Embarked'].astype('category').cat.codes\n",
    "data['Pclass'] = data['Pclass'].astype('category').cat.codes\n",
    "data['Title1'] = data['Title1'].astype('category').cat.codes\n",
    "data['Title2'] = data['Title2'].astype('category').cat.codes\n",
    "data['Cabin'] = data['Cabin'].astype('category').cat.codes\n",
    "data['Ticket_info'] = data['Ticket_info'].astype('category').cat.codes"
   ]
  },
  {
   "cell_type": "code",
   "execution_count": null,
   "metadata": {
    "collapsed": true
   },
   "outputs": [],
   "source": []
  },
  {
   "cell_type": "markdown",
   "metadata": {
    "collapsed": true
   },
   "source": [
    "http://blog.xuite.net/jillrong/Rlanguage/159045996-%E6%89%BE%E5%87%BAoutlier(s)%2F%E9%9B%A2%E7%BE%A4%E5%80%BC%2F%E6%A5%B5%E7%AB%AF%E5%80%BC-+cont.\n",
    "\n",
    "如果方程式成立則x為離群值。\n",
    "\n",
    "$$\\frac{|x -\\overline{x}|}{std} > 3 or 4$$\n",
    "\n",
    "可得出若x-mean(x)若大於3到4倍標準差，則x為離群值: \n",
    "\n",
    "$$|x -\\overline{x}| > (3 or 4)*{std} $$\n"
   ]
  },
  {
   "cell_type": "code",
   "execution_count": 291,
   "metadata": {
    "collapsed": true
   },
   "outputs": [],
   "source": [
    "\n",
    "dataAgeNull = data[data['Age'].isnull()].copy()\n",
    "dataAgeNotNull = data[data['Age'].notnull()].copy()\n",
    "\n",
    "remove_outlier = dataAgeNotNull[(np.abs(dataAgeNotNull['Fare']-dataAgeNotNull['Fare'].mean()\\\n",
    "                        )>(4*dataAgeNotNull['Fare'].std()))|(np.abs(dataAgeNotNull['Family_Size']-dataAgeNotNull['Family_Size'].mean()\\\n",
    "                        )>(4*dataAgeNotNull['Family_Size'].std()))]"
   ]
  },
  {
   "cell_type": "code",
   "execution_count": 292,
   "metadata": {
    "collapsed": true
   },
   "outputs": [],
   "source": [
    "rfModel_age = RandomForestRegressor(n_estimators=2000,random_state=42)\n",
    "ageColumns = ['Embarked','Fare','Pclass','Sex','Family_Size','Title1','Title2','Cabin','Ticket_info']\n",
    "\n",
    "rfModel_age.fit(remove_outlier[ageColumns],remove_outlier['Age'])\n",
    "\n",
    "ageNullValues = rfModel_age.predict(X=dataAgeNull[ageColumns])"
   ]
  },
  {
   "cell_type": "code",
   "execution_count": 293,
   "metadata": {
    "collapsed": true
   },
   "outputs": [],
   "source": [
    "dataAgeNull.loc[:,'Age'] = ageNullValues\n"
   ]
  },
  {
   "cell_type": "code",
   "execution_count": 294,
   "metadata": {
    "collapsed": true
   },
   "outputs": [],
   "source": [
    "data = dataAgeNull.append(dataAgeNotNull)"
   ]
  },
  {
   "cell_type": "code",
   "execution_count": 296,
   "metadata": {
    "collapsed": true
   },
   "outputs": [],
   "source": [
    "data.reset_index(drop=True,inplace=True)"
   ]
  },
  {
   "cell_type": "code",
   "execution_count": 300,
   "metadata": {
    "collapsed": true
   },
   "outputs": [],
   "source": [
    "dataTrain = data[pd.notnull(data['Survived'])].sort_values(by=[\"PassengerId\"])\n",
    "dataTest = data[~pd.notnull(data['Survived'])].sort_values(by=[\"PassengerId\"])"
   ]
  },
  {
   "cell_type": "code",
   "execution_count": 301,
   "metadata": {},
   "outputs": [
    {
     "data": {
      "text/plain": [
       "Index(['Age', 'Cabin', 'Embarked', 'Fare', 'Name', 'Parch', 'PassengerId',\n",
       "       'Pclass', 'Sex', 'SibSp', 'Survived', 'Ticket', 'Family_Size', 'Title1',\n",
       "       'Sex_num', 'Title2', 'Ticket_info'],\n",
       "      dtype='object')"
      ]
     },
     "execution_count": 301,
     "metadata": {},
     "output_type": "execute_result"
    }
   ],
   "source": [
    "dataTrain.columns"
   ]
  },
  {
   "cell_type": "code",
   "execution_count": 302,
   "metadata": {
    "collapsed": true
   },
   "outputs": [],
   "source": [
    "dataTrain = dataTrain[['Survived', 'Age', 'Embarked', 'Fare',  'Pclass', 'Sex', 'Family_Size', 'Title2','Ticket_info','Cabin']]\n",
    "dataTest = dataTest[['Age', 'Embarked', 'Fare', 'Pclass', 'Sex', 'Family_Size', 'Title2','Ticket_info','Cabin']]"
   ]
  },
  {
   "cell_type": "code",
   "execution_count": 298,
   "metadata": {
    "collapsed": true
   },
   "outputs": [],
   "source": [
    "from sklearn.ensemble import RandomForestClassifier\n",
    "\n",
    "rf = RandomForestClassifier(criterion='gini',n_estimators=1000,min_samples_split=12,min_samples_leaf=1,oob_score=True,random_state=1,n_jobs=1)\n"
   ]
  },
  {
   "cell_type": "code",
   "execution_count": 303,
   "metadata": {},
   "outputs": [
    {
     "name": "stdout",
     "output_type": "stream",
     "text": [
      "0.8294\n"
     ]
    }
   ],
   "source": [
    "rf.fit(dataTrain.iloc[:, 1:], dataTrain.iloc[:, 0])\n",
    "print(\"%.4f\" % rf.oob_score_)"
   ]
  },
  {
   "cell_type": "code",
   "execution_count": null,
   "metadata": {
    "collapsed": true
   },
   "outputs": [],
   "source": []
  },
  {
   "cell_type": "code",
   "execution_count": null,
   "metadata": {
    "collapsed": true
   },
   "outputs": [],
   "source": []
  }
 ],
 "metadata": {
  "kernelspec": {
   "display_name": "Python 3",
   "language": "python",
   "name": "python3"
  },
  "language_info": {
   "codemirror_mode": {
    "name": "ipython",
    "version": 3
   },
   "file_extension": ".py",
   "mimetype": "text/x-python",
   "name": "python",
   "nbconvert_exporter": "python",
   "pygments_lexer": "ipython3",
   "version": "3.5.3"
  }
 },
 "nbformat": 4,
 "nbformat_minor": 2
}
