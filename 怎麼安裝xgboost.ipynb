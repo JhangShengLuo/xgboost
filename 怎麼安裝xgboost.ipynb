{
 "cells": [
  {
   "cell_type": "markdown",
   "metadata": {},
   "source": [
    "source1:https://isaacchanghau.github.io/2017/06/20/Install-XGBoost-on-Mac-OS-X/\n",
    "source2:http://xgboost.readthedocs.io/en/latest/build.html"
   ]
  },
  {
   "cell_type": "markdown",
   "metadata": {},
   "source": [
    "## Building on macOS\n",
    "#### Install with pip - simple method"
   ]
  },
  {
   "cell_type": "markdown",
   "metadata": {},
   "source": [
    "先移動到python 3.5的site_package，裡面應該會有所有的package(pandas, numpy等等...)"
   ]
  },
  {
   "cell_type": "code",
   "execution_count": null,
   "metadata": {
    "collapsed": true
   },
   "outputs": [],
   "source": [
    "brew install gcc5"
   ]
  },
  {
   "cell_type": "markdown",
   "metadata": {},
   "source": [
    "如果出錯就用 -overwrite 的方式。"
   ]
  },
  {
   "cell_type": "markdown",
   "metadata": {},
   "source": [
    "#### clone the repository"
   ]
  },
  {
   "cell_type": "code",
   "execution_count": null,
   "metadata": {
    "collapsed": true
   },
   "outputs": [],
   "source": [
    "git clone --recursive https://github.com/dmlc/xgboost"
   ]
  },
  {
   "cell_type": "markdown",
   "metadata": {},
   "source": [
    "open new terminal and move to  here"
   ]
  },
  {
   "cell_type": "code",
   "execution_count": null,
   "metadata": {
    "collapsed": true
   },
   "outputs": [],
   "source": [
    "cd /usr/local/bin;\n",
    "ls;\n",
    "# check gcc,g++ version\n",
    "\n",
    "\"\"\"\n",
    "Mine version\n",
    "...\n",
    "g++-5\n",
    "gcc-5\n",
    "...\n",
    "\"\"\"\n"
   ]
  },
  {
   "cell_type": "markdown",
   "metadata": {},
   "source": [
    "Then uncomment the following two lines:"
   ]
  },
  {
   "cell_type": "code",
   "execution_count": 2,
   "metadata": {},
   "outputs": [],
   "source": [
    "cd xgboost\n",
    "vi make/config.mk\n",
    ">>>\n",
    "# uncomment the following two lines\n",
    "# change gcc version to what your computer has right mow\n",
    "\n",
    "here\n",
    "\"\"\"\n",
    "...\n",
    "# export CC = gcc\n",
    "# export CXX = g++\n",
    "...\n",
    "\"\"\"\n",
    "to\n",
    "\n",
    "\"\"\"\n",
    "...\n",
    "export CC = gcc\n",
    "export CXX = g++\n",
    "...\n",
    "\"\"\"\n",
    "than\n",
    "\n",
    "\"\"\"\n",
    "...\n",
    "export CC = gcc-5\n",
    "export CXX = g++-5\n",
    "...\n",
    "\"\"\"\n",
    "\n",
    ">>>"
   ]
  },
  {
   "cell_type": "markdown",
   "metadata": {},
   "source": [
    "and build using the following commands"
   ]
  },
  {
   "cell_type": "code",
   "execution_count": null,
   "metadata": {
    "collapsed": true
   },
   "outputs": [],
   "source": [
    "cp make/config.mk ./config.mk; make -j4"
   ]
  },
  {
   "cell_type": "code",
   "execution_count": null,
   "metadata": {
    "collapsed": true
   },
   "outputs": [],
   "source": [
    "cd python-package\n",
    "sudo python3 setup.py install"
   ]
  }
 ],
 "metadata": {
  "kernelspec": {
   "display_name": "Python 3",
   "language": "python",
   "name": "python3"
  },
  "language_info": {
   "codemirror_mode": {
    "name": "ipython",
    "version": 3
   },
   "file_extension": ".py",
   "mimetype": "text/x-python",
   "name": "python",
   "nbconvert_exporter": "python",
   "pygments_lexer": "ipython3",
   "version": "3.5.3"
  }
 },
 "nbformat": 4,
 "nbformat_minor": 2
}
